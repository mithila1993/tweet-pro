{
 "cells": [
  {
   "cell_type": "code",
   "execution_count": 6,
   "metadata": {},
   "outputs": [
    {
     "name": "stdout",
     "output_type": "stream",
     "text": [
      "0  -  \n",
      "1  -  \n"
     ]
    }
   ],
   "source": [
    "import GetOldTweets3 as got\n",
    "\n",
    "\n",
    "querySearchTerm = \"tourism\"\n",
    "startDate = \"2015-01-01\"\n",
    "endDate = \"2015-02-01\"\n",
    "tweetLimit = 2\n",
    "\n",
    "#getting old tweets\n",
    "tweetCriteria = got.manager.TweetCriteria().setQuerySearch(querySearchTerm)\\\n",
    "                                           .setSince(startDate)\\\n",
    "                                           .setUntil(endDate)\\\n",
    "                                           .setMaxTweets(tweetLimit)\n",
    "\n",
    "for index,x in enumerate(got.manager.TweetManager.getTweets(tweetCriteria)):\n",
    "    print(index,' - ',x.geo)"
   ]
  },
  {
   "cell_type": "code",
   "execution_count": null,
   "metadata": {},
   "outputs": [],
   "source": []
  }
 ],
 "metadata": {
  "kernelspec": {
   "display_name": "Python 3",
   "language": "python",
   "name": "python3"
  },
  "language_info": {
   "codemirror_mode": {
    "name": "ipython",
    "version": 3
   },
   "file_extension": ".py",
   "mimetype": "text/x-python",
   "name": "python",
   "nbconvert_exporter": "python",
   "pygments_lexer": "ipython3",
   "version": "3.7.3"
  }
 },
 "nbformat": 4,
 "nbformat_minor": 2
}
