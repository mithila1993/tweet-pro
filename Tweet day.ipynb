{
 "cells": [
  {
   "cell_type": "code",
   "execution_count": 1,
   "metadata": {},
   "outputs": [],
   "source": [
    "#import xlwt\n",
    "import GetOldTweets3 as got\n",
    "import winsound\n",
    "from openpyxl import Workbook\n",
    "import datetime"
   ]
  },
  {
   "cell_type": "code",
   "execution_count": 2,
   "metadata": {},
   "outputs": [],
   "source": [
    "wb = Workbook()\n",
    "ws = wb.active\n",
    "\n",
    "# startDate1 = \"2019-01-0\"\n",
    "# startDate2 = \"2019-01-\"\n",
    "startDate = ''\n",
    "querySearchTerm = \"tourism\"\n",
    "tweetLimit = 3000\n",
    "counter = 1"
   ]
  },
  {
   "cell_type": "code",
   "execution_count": 3,
   "metadata": {},
   "outputs": [],
   "source": [
    "def getTweets(startDate,endDate):\n",
    "    print(datetime.datetime.now().time(),startDate,endDate)\n",
    "    global counter\n",
    "\n",
    "    tweetCriteria = got.manager.TweetCriteria().setQuerySearch(querySearchTerm)\\\n",
    "                                               .setSince(startDate)\\\n",
    "                                               .setUntil(endDate)\\\n",
    "                                               .setMaxTweets(tweetLimit)\n",
    "\n",
    "    for index,x in enumerate(got.manager.TweetManager.getTweets(tweetCriteria)):\n",
    "        \n",
    "        datestring = str(x.date)\n",
    "        type = datestring +' | ' + x.text\n",
    "        stringExcel = str(type)\n",
    "        \n",
    "        ws.cell(counter, 1, stringExcel)\n",
    "        counter += 1"
   ]
  },
  {
   "cell_type": "code",
   "execution_count": null,
   "metadata": {},
   "outputs": [],
   "source": []
  },
  {
   "cell_type": "code",
   "execution_count": null,
   "metadata": {},
   "outputs": [
    {
     "name": "stdout",
     "output_type": "stream",
     "text": [
      "05:27:41.740722 2018-01-01 2018-01-02\n",
      "05:33:33.248188 2018-01-02 2018-01-03\n",
      "05:38:51.798963 2018-01-03 2018-01-04\n",
      "05:44:22.390241 2018-01-04 2018-01-05\n",
      "05:49:44.776957 2018-01-05 2018-01-06\n",
      "05:55:37.606585 2018-01-06 2018-01-07\n",
      "06:00:55.457602 2018-01-07 2018-01-08\n",
      "06:06:29.227594 2018-01-08 2018-01-09\n",
      "06:12:09.199721 2018-01-09 2018-01-10\n",
      "06:17:40.449735 2018-01-10 2018-01-11\n",
      "06:22:43.198819 2018-01-11 2018-01-12\n",
      "06:27:45.388729 2018-01-12 2018-01-13\n",
      "06:33:24.742808 2018-01-13 2018-01-14\n",
      "06:39:12.269680 2018-01-14 2018-01-15\n",
      "06:43:32.382036 2018-01-15 2018-01-16\n",
      "06:50:24.265205 2018-01-16 2018-01-17\n"
     ]
    }
   ],
   "source": [
    "getTweets(\"2018-01-01\",\"2018-01-02\")\n",
    "wb.save('2018-01-01.xlsx')\n",
    "getTweets(\"2018-01-02\",\"2018-01-03\")\n",
    "wb.save('2018-01-02.xlsx')\n",
    "getTweets(\"2018-01-03\",\"2018-01-04\")\n",
    "wb.save('2018-01-03.xlsx')\n",
    "getTweets(\"2018-01-04\",\"2018-01-05\")\n",
    "wb.save('2018-01-04.xlsx')\n",
    "getTweets(\"2018-01-05\",\"2018-01-06\")\n",
    "wb.save('2018-01-05.xlsx')\n",
    "getTweets(\"2018-01-06\",\"2018-01-07\")\n",
    "wb.save('2018-01-06.xlsx')\n",
    "getTweets(\"2018-01-07\",\"2018-01-08\")\n",
    "wb.save('2018-01-07.xlsx')\n",
    "getTweets(\"2018-01-08\",\"2018-01-09\")\n",
    "wb.save('2018-01-08.xlsx')\n",
    "getTweets(\"2018-01-09\",\"2018-01-10\")\n",
    "wb.save('2018-01-09.xlsx')\n",
    "getTweets(\"2018-01-10\",\"2018-01-11\")\n",
    "wb.save('2018-01-10.xlsx')\n",
    "getTweets(\"2018-01-11\",\"2018-01-12\")\n",
    "wb.save('2018-01-11.xlsx')\n",
    "getTweets(\"2018-01-12\",\"2018-01-13\")\n",
    "wb.save('2018-01-12.xlsx')\n",
    "getTweets(\"2018-01-13\",\"2018-01-14\")\n",
    "wb.save('2018-01-13.xlsx')\n",
    "getTweets(\"2018-01-14\",\"2018-01-15\")\n",
    "wb.save('2018-01-14.xlsx')\n",
    "getTweets(\"2018-01-15\",\"2018-01-16\")\n",
    "wb.save('2018-01-15.xlsx')\n",
    "getTweets(\"2018-01-16\",\"2018-01-17\")\n",
    "wb.save('2018-01-16.xlsx')\n",
    "getTweets(\"2018-01-17\",\"2018-01-18\")\n",
    "wb.save('2018-01-17.xlsx')\n",
    "getTweets(\"2018-01-18\",\"2018-01-19\")\n",
    "wb.save('2018-01-18.xlsx')\n",
    "getTweets(\"2018-01-19\",\"2018-01-20\")\n",
    "wb.save('2018-01-19.xlsx')\n",
    "getTweets(\"2018-01-20\",\"2018-01-21\")\n",
    "wb.save('2018-01-20.xlsx')\n",
    "getTweets(\"2018-01-21\",\"2018-01-22\")\n",
    "wb.save('2018-01-21.xlsx')\n",
    "getTweets(\"2018-01-22\",\"2018-01-23\")\n",
    "wb.save('2018-01-22.xlsx')\n",
    "getTweets(\"2018-01-23\",\"2018-01-24\")\n",
    "wb.save('2018-01-23.xlsx')\n",
    "getTweets(\"2018-01-24\",\"2018-01-25\")\n",
    "wb.save('2018-01-24.xlsx')\n",
    "getTweets(\"2018-01-25\",\"2018-01-26\")\n",
    "wb.save('2018-01-25.xlsx')\n",
    "getTweets(\"2018-01-26\",\"2018-01-27\")\n",
    "wb.save('2018-01-26.xlsx')\n",
    "getTweets(\"2018-01-27\",\"2018-01-28\")\n",
    "wb.save('2018-01-27.xlsx')\n",
    "getTweets(\"2018-01-28\",\"2018-01-29\")\n",
    "wb.save('2018-01-28.xlsx')\n",
    "getTweets(\"2018-01-29\",\"2018-01-30\")\n",
    "wb.save('2018-01-29.xlsx')\n",
    "getTweets(\"2018-01-30\",\"2018-01-31\")\n",
    "wb.save('2018-01-30.xlsx')\n",
    "\n",
    "\n",
    "duration = 3000  # milliseconds\n",
    "freq = 440  # Hz\n",
    "winsound.Beep(freq, duration)\n",
    "print(\"\\a\")"
   ]
  },
  {
   "cell_type": "code",
   "execution_count": null,
   "metadata": {},
   "outputs": [],
   "source": []
  }
 ],
 "metadata": {
  "kernelspec": {
   "display_name": "Python 3",
   "language": "python",
   "name": "python3"
  },
  "language_info": {
   "codemirror_mode": {
    "name": "ipython",
    "version": 3
   },
   "file_extension": ".py",
   "mimetype": "text/x-python",
   "name": "python",
   "nbconvert_exporter": "python",
   "pygments_lexer": "ipython3",
   "version": "3.7.3"
  }
 },
 "nbformat": 4,
 "nbformat_minor": 2
}
