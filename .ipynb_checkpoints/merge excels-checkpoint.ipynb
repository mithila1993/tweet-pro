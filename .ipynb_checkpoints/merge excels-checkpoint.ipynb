{
 "cells": [
  {
   "cell_type": "code",
   "execution_count": 101,
   "metadata": {},
   "outputs": [],
   "source": [
    "from langdetect import detect\n",
    "import openpyxl \n",
    "from openpyxl import Workbook\n",
    "import datetime"
   ]
  },
  {
   "cell_type": "code",
   "execution_count": 102,
   "metadata": {},
   "outputs": [],
   "source": [
    "book = Workbook()\n",
    "sheet = book.active"
   ]
  },
  {
   "cell_type": "code",
   "execution_count": 116,
   "metadata": {},
   "outputs": [],
   "source": [
    "def mergeFiles(start,end):\n",
    "    book2 = openpyxl.load_workbook('dataset/process/'+start+'.xlsx')\n",
    "    sheet2 = book2.active\n",
    "\n",
    "    lastrow2 = 'C' + str(sheet2.max_row)\n",
    "    cells2 = sheet2['A1': lastrow2]\n",
    "\n",
    "    for c1, c2,c3 in cells2:\n",
    "        datestring = str(c3)\n",
    "        if(datastring.isnumeric()):\n",
    "            sheet.append((c1.value,c2.value,c3.value))\n",
    "    \n",
    "    book.save('dataset/process/'+end+'.xlsx')"
   ]
  },
  {
   "cell_type": "code",
   "execution_count": 117,
   "metadata": {},
   "outputs": [],
   "source": [
    "mergeFiles('temp','append')"
   ]
  },
  {
   "cell_type": "code",
   "execution_count": null,
   "metadata": {},
   "outputs": [],
   "source": []
  }
 ],
 "metadata": {
  "kernelspec": {
   "display_name": "Python 3",
   "language": "python",
   "name": "python3"
  },
  "language_info": {
   "codemirror_mode": {
    "name": "ipython",
    "version": 3
   },
   "file_extension": ".py",
   "mimetype": "text/x-python",
   "name": "python",
   "nbconvert_exporter": "python",
   "pygments_lexer": "ipython3",
   "version": "3.7.3"
  }
 },
 "nbformat": 4,
 "nbformat_minor": 2
}
