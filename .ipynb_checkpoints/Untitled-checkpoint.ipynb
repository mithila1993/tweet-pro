{
 "cells": [
  {
   "cell_type": "code",
   "execution_count": 1,
   "metadata": {},
   "outputs": [],
   "source": [
    "AI = \"The defeat and captivity of Emperor Valerian at the hands of the Sassanian emperor Shapur I in 260 left the eastern Roman provinces largely at the mercy of the Persians. Odaenathus remained on the side of Rome; assuming the title of king, he led the Palmyrene army, fell upon the Persians before they could cross the Euphrates to the eastern bank, and inflicted upon them a considerable defeat. He took the side of Emperor Gallienus, the son and successor of Valerian, who was facing the attempted usurpation of Fulvius Macrianus. The rebel declared his sons emperors, leaving one in Syria and taking the other with him to Europe. Odaenathus attacked the remaining usurper and quelled the rebellion. He was rewarded with many exceptional titles by the Emperor, who formalized his self-established position in the East. In reality, the Emperor may have done little but accept the declared nominal loyalty of Odaenathus.\"\n"
   ]
  },
  {
   "cell_type": "code",
   "execution_count": 2,
   "metadata": {},
   "outputs": [
    {
     "data": {
      "text/plain": [
       "str"
      ]
     },
     "execution_count": 2,
     "metadata": {},
     "output_type": "execute_result"
    }
   ],
   "source": [
    "type(AI)"
   ]
  },
  {
   "cell_type": "code",
   "execution_count": null,
   "metadata": {},
   "outputs": [],
   "source": []
  }
 ],
 "metadata": {
  "kernelspec": {
   "display_name": "Python 3",
   "language": "python",
   "name": "python3"
  },
  "language_info": {
   "codemirror_mode": {
    "name": "ipython",
    "version": 3
   },
   "file_extension": ".py",
   "mimetype": "text/x-python",
   "name": "python",
   "nbconvert_exporter": "python",
   "pygments_lexer": "ipython3",
   "version": "3.7.3"
  }
 },
 "nbformat": 4,
 "nbformat_minor": 2
}
