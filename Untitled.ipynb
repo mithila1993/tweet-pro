{
 "cells": [
  {
   "cell_type": "code",
   "execution_count": 1,
   "metadata": {},
   "outputs": [],
   "source": [
    "AI = \"The defeat and captivity of Emperor Valerian at the hands of the Sassanian emperor Shapur I in 260 left the eastern Roman provinces largely at the mercy of the Persians. Odaenathus remained on the side of Rome; assuming the title of king, he led the Palmyrene army, fell upon the Persians before they could cross the Euphrates to the eastern bank, and inflicted upon them a considerable defeat. He took the side of Emperor Gallienus, the son and successor of Valerian, who was facing the attempted usurpation of Fulvius Macrianus. The rebel declared his sons emperors, leaving one in Syria and taking the other with him to Europe. Odaenathus attacked the remaining usurper and quelled the rebellion. He was rewarded with many exceptional titles by the Emperor, who formalized his self-established position in the East. In reality, the Emperor may have done little but accept the declared nominal loyalty of Odaenathus.\"\n"
   ]
  },
  {
   "cell_type": "code",
   "execution_count": 2,
   "metadata": {},
   "outputs": [
    {
     "data": {
      "text/plain": [
       "str"
      ]
     },
     "execution_count": 2,
     "metadata": {},
     "output_type": "execute_result"
    }
   ],
   "source": [
    "type(AI)"
   ]
  },
  {
   "cell_type": "code",
   "execution_count": 5,
   "metadata": {},
   "outputs": [],
   "source": [
    "from nltk.tokenize import word_tokenize"
   ]
  },
  {
   "cell_type": "code",
   "execution_count": 4,
   "metadata": {
    "scrolled": true
   },
   "outputs": [
    {
     "name": "stdout",
     "output_type": "stream",
     "text": [
      "['The', 'defeat', 'and', 'captivity', 'of', 'Emperor', 'Valerian', 'at', 'the', 'hands', 'of', 'the', 'Sassanian', 'emperor', 'Shapur', 'I', 'in', '260', 'left', 'the', 'eastern', 'Roman', 'provinces', 'largely', 'at', 'the', 'mercy', 'of', 'the', 'Persians', '.', 'Odaenathus', 'remained', 'on', 'the', 'side', 'of', 'Rome', ';', 'assuming', 'the', 'title', 'of', 'king', ',', 'he', 'led', 'the', 'Palmyrene', 'army', ',', 'fell', 'upon', 'the', 'Persians', 'before', 'they', 'could', 'cross', 'the', 'Euphrates', 'to', 'the', 'eastern', 'bank', ',', 'and', 'inflicted', 'upon', 'them', 'a', 'considerable', 'defeat', '.', 'He', 'took', 'the', 'side', 'of', 'Emperor', 'Gallienus', ',', 'the', 'son', 'and', 'successor', 'of', 'Valerian', ',', 'who', 'was', 'facing', 'the', 'attempted', 'usurpation', 'of', 'Fulvius', 'Macrianus', '.', 'The', 'rebel', 'declared', 'his', 'sons', 'emperors', ',', 'leaving', 'one', 'in', 'Syria', 'and', 'taking', 'the', 'other', 'with', 'him', 'to', 'Europe', '.', 'Odaenathus', 'attacked', 'the', 'remaining', 'usurper', 'and', 'quelled', 'the', 'rebellion', '.', 'He', 'was', 'rewarded', 'with', 'many', 'exceptional', 'titles', 'by', 'the', 'Emperor', ',', 'who', 'formalized', 'his', 'self-established', 'position', 'in', 'the', 'East', '.', 'In', 'reality', ',', 'the', 'Emperor', 'may', 'have', 'done', 'little', 'but', 'accept', 'the', 'declared', 'nominal', 'loyalty', 'of', 'Odaenathus', '.']\n"
     ]
    }
   ],
   "source": [
    "AI_tokens = word_tokenize(AI)\n",
    "print(AI_tokens)"
   ]
  },
  {
   "cell_type": "code",
   "execution_count": 6,
   "metadata": {},
   "outputs": [
    {
     "data": {
      "text/plain": [
       "FreqDist({'the': 23, 'of': 9, ',': 8, '.': 7, 'and': 5, 'emperor': 5, 'in': 4, 'odaenathus': 3, 'he': 3, 'defeat': 2, ...})"
      ]
     },
     "execution_count": 6,
     "metadata": {},
     "output_type": "execute_result"
    }
   ],
   "source": [
    "from nltk.probability import FreqDist\n",
    "fdist = FreqDist();\n",
    "for word in AI_tokens:\n",
    "    fdist[word.lower()]+=1\n",
    "fdist"
   ]
  },
  {
   "cell_type": "code",
   "execution_count": 7,
   "metadata": {},
   "outputs": [
    {
     "data": {
      "text/plain": [
       "23"
      ]
     },
     "execution_count": 7,
     "metadata": {},
     "output_type": "execute_result"
    }
   ],
   "source": [
    "fdist['the']"
   ]
  },
  {
   "cell_type": "code",
   "execution_count": 9,
   "metadata": {},
   "outputs": [
    {
     "data": {
      "text/plain": [
       "96"
      ]
     },
     "execution_count": 9,
     "metadata": {},
     "output_type": "execute_result"
    }
   ],
   "source": [
    "len(fdist)"
   ]
  },
  {
   "cell_type": "code",
   "execution_count": 10,
   "metadata": {},
   "outputs": [
    {
     "data": {
      "text/plain": [
       "[('the', 23),\n",
       " ('of', 9),\n",
       " (',', 8),\n",
       " ('.', 7),\n",
       " ('and', 5),\n",
       " ('emperor', 5),\n",
       " ('in', 4),\n",
       " ('odaenathus', 3),\n",
       " ('he', 3),\n",
       " ('defeat', 2)]"
      ]
     },
     "execution_count": 10,
     "metadata": {},
     "output_type": "execute_result"
    }
   ],
   "source": [
    "fdist_top10 = fdist.most_common(10)\n",
    "fdist_top10"
   ]
  },
  {
   "cell_type": "code",
   "execution_count": null,
   "metadata": {},
   "outputs": [],
   "source": [
    "from "
   ]
  }
 ],
 "metadata": {
  "kernelspec": {
   "display_name": "Python 3",
   "language": "python",
   "name": "python3"
  },
  "language_info": {
   "codemirror_mode": {
    "name": "ipython",
    "version": 3
   },
   "file_extension": ".py",
   "mimetype": "text/x-python",
   "name": "python",
   "nbconvert_exporter": "python",
   "pygments_lexer": "ipython3",
   "version": "3.7.3"
  }
 },
 "nbformat": 4,
 "nbformat_minor": 2
}
