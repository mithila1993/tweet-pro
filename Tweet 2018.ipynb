{
 "cells": [
  {
   "cell_type": "code",
   "execution_count": 6,
   "metadata": {},
   "outputs": [],
   "source": [
    "import xlwt\n",
    "import GetOldTweets3 as got\n",
    "import winsound"
   ]
  },
  {
   "cell_type": "code",
   "execution_count": 11,
   "metadata": {},
   "outputs": [],
   "source": [
    "wb = xlwt.Workbook()\n",
    "ws = wb.add_sheet('A Test Sheet')\n",
    "\n",
    "# startDate1 = \"2019-01-0\"\n",
    "# startDate2 = \"2019-01-\"\n",
    "startDate = ''\n",
    "querySearchTerm = \"tourism\"\n",
    "tweetLimit = 2000\n",
    "counter = 0"
   ]
  },
  {
   "cell_type": "code",
   "execution_count": 13,
   "metadata": {},
   "outputs": [],
   "source": [
    "def getTweets(startDate,endDate):\n",
    "    global counter\n",
    "    tweetCriteria = got.manager.TweetCriteria().setQuerySearch(querySearchTerm)\\\n",
    "                                               .setSince(startDate)\\\n",
    "                                               .setUntil(endDate)\\\n",
    "                                               .setMaxTweets(tweetLimit)\n",
    "    for index,x in enumerate(got.manager.TweetManager.getTweets(tweetCriteria)):\n",
    "        datestring = str(x.date)\n",
    "        type = \"\", datestring,' | ',x.text ,\"\"\n",
    "        ws.write(counter, 0, type)\n",
    "        counter += 1"
   ]
  },
  {
   "cell_type": "code",
   "execution_count": 9,
   "metadata": {},
   "outputs": [],
   "source": [
    "def yearExtract(startDate1,startDate2,end):\n",
    "\n",
    "    for i in range (1,end+2):\n",
    "        if(i<9):\n",
    "            startDate = startDate1 + str(i)\n",
    "            endDate = startDate1 + str(i+1)\n",
    "            print(startDate,endDate)\n",
    "            #test(startDate,endDate)\n",
    "            getTweets(startDate,endDate)\n",
    "        elif(i==9):\n",
    "            startDate = startDate1 + str(9)\n",
    "            endDate = startDate2 + str(10)\n",
    "            print(startDate, endDate)\n",
    "            getTweets(startDate, endDate)\n",
    "        else:\n",
    "            startDate = startDate2 + str(i)\n",
    "            endDate = startDate2 + str(i + 1)\n",
    "            print(startDate, endDate)\n",
    "            getTweets(startDate, endDate)"
   ]
  },
  {
   "cell_type": "code",
   "execution_count": 14,
   "metadata": {},
   "outputs": [
    {
     "name": "stdout",
     "output_type": "stream",
     "text": [
      "2018-01-01 2018-01-02\n",
      "2018-01-02 2018-01-03\n",
      "2018-01-03 2018-01-04\n",
      "2018-01-04 2018-01-05\n",
      "An error occured during an HTTP request: Remote end closed connection without response\n",
      "Try to open in browser: https://twitter.com/search?q=tourism%20since%3A2018-01-04%20until%3A2018-01-05&src=typd\n"
     ]
    },
    {
     "ename": "SystemExit",
     "evalue": "",
     "output_type": "error",
     "traceback": [
      "An exception has occurred, use %tb to see the full traceback.\n",
      "\u001b[1;31mSystemExit\u001b[0m\n"
     ]
    },
    {
     "name": "stderr",
     "output_type": "stream",
     "text": [
      "C:\\Users\\Mithila\\Anaconda3\\lib\\site-packages\\IPython\\core\\interactiveshell.py:3304: UserWarning: To exit: use 'exit', 'quit', or Ctrl-D.\n",
      "  warn(\"To exit: use 'exit', 'quit', or Ctrl-D.\", stacklevel=1)\n"
     ]
    }
   ],
   "source": [
    "yearExtract(\"2018-01-0\",\"2018-01-\",31)\n",
    "wb.save('2018-01.xls')\n",
    "yearExtract(\"2018-02-0\",\"2018-02-\",28)\n",
    "wb.save('2018-02.xls')\n",
    "yearExtract(\"2018-03-0\",\"2018-03-\",31)\n",
    "wb.save('2018-03.xls')\n",
    "yearExtract(\"2018-04-0\",\"2018-04-\",30)\n",
    "wb.save('2018-04.xls')\n",
    "yearExtract(\"2018-05-0\",\"2018-05-\",31)\n",
    "wb.save('2018-05.xls')\n",
    "yearExtract(\"2018-06-0\",\"2018-06-\",30)\n",
    "wb.save('2018-06.xls')\n",
    "yearExtract(\"2018-07-0\",\"2018-07-\",31)\n",
    "wb.save('2018-07.xls')\n",
    "yearExtract(\"2018-08-0\",\"2018-08-\",31)\n",
    "wb.save('2018-08.xls')\n",
    "yearExtract(\"2018-09-0\",\"2018-09-\",30)\n",
    "wb.save('2018-09.xls')\n",
    "yearExtract(\"2018-10-0\",\"2018-10-\",31)\n",
    "wb.save('2018-10.xls')\n",
    "yearExtract(\"2018-11-0\",\"2018-11-\",30)\n",
    "wb.save('2018-11.xls')\n",
    "yearExtract(\"2018-12-0\",\"2018-12-\",31)\n",
    "wb.save('2018-12.xls')\n",
    "\n",
    "\n",
    "\n",
    "duration = 3000  # milliseconds\n",
    "freq = 440  # Hz\n",
    "winsound.Beep(freq, duration)\n",
    "print(\"\\a\")\n"
   ]
  },
  {
   "cell_type": "code",
   "execution_count": null,
   "metadata": {},
   "outputs": [],
   "source": []
  }
 ],
 "metadata": {
  "kernelspec": {
   "display_name": "Python 3",
   "language": "python",
   "name": "python3"
  },
  "language_info": {
   "codemirror_mode": {
    "name": "ipython",
    "version": 3
   },
   "file_extension": ".py",
   "mimetype": "text/x-python",
   "name": "python",
   "nbconvert_exporter": "python",
   "pygments_lexer": "ipython3",
   "version": "3.7.3"
  }
 },
 "nbformat": 4,
 "nbformat_minor": 2
}
