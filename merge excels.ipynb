{
 "cells": [
  {
   "cell_type": "code",
   "execution_count": 9,
   "metadata": {},
   "outputs": [],
   "source": [
    "from langdetect import detect\n",
    "import openpyxl \n",
    "from openpyxl import Workbook\n",
    "import datetime\n",
    "import os"
   ]
  },
  {
   "cell_type": "code",
   "execution_count": 10,
   "metadata": {},
   "outputs": [],
   "source": [
    "book = Workbook()\n",
    "sheet = book.active\n",
    "datastring = ''"
   ]
  },
  {
   "cell_type": "code",
   "execution_count": 11,
   "metadata": {},
   "outputs": [],
   "source": [
    "def mergeFiles(start,end):\n",
    "    book2 = openpyxl.load_workbook('dataset/process/'+start+'.xlsx')\n",
    "    sheet2 = book2.active\n",
    "\n",
    "    lastrow2 = 'C' + str(sheet2.max_row)\n",
    "    cells2 = sheet2['A1': lastrow2]\n",
    "\n",
    "    for c1, c2,c3 in cells2:\n",
    "        datestring = c3.value\n",
    "        if(isinstance(c3.value , float)):\n",
    "            sheet.append((c1.value,c2.value,c3.value))\n",
    "    \n",
    "    book.save('dataset/process/'+end+'.xlsx')\n",
    "    b = os.path.getsize('dataset/process/'+end+'.xlsx')\n",
    "    print(b/1024)"
   ]
  },
  {
   "cell_type": "code",
   "execution_count": null,
   "metadata": {
    "scrolled": true
   },
   "outputs": [
    {
     "name": "stdout",
     "output_type": "stream",
     "text": [
      "32852.5576171875\n",
      "Done1\n",
      "40612.091796875\n",
      "Done\n",
      "51436.3388671875\n",
      "Done\n",
      "67728.65234375\n",
      "Done4\n"
     ]
    }
   ],
   "source": [
    "mergeFiles('2018-04-01','2018-1')\n",
    "print(\"Done1\")\n",
    "mergeFiles('2018-04-20','2018-1')\n",
    "print(\"Done\")\n",
    "mergeFiles('2018-05-17','2018-1')\n",
    "print(\"Done\")\n",
    "mergeFiles('2018-06-26','2018-1')\n",
    "print(\"Done4\")\n",
    "mergeFiles('2018-08-26','2018-1')\n",
    "print(\"Done\")\n",
    "\n",
    "mergeFiles('2018-10-12','2018-1')\n",
    "print(\"Done\")\n",
    "mergeFiles('2018-11-02','2018-1')\n",
    "print(\"Done7\")\n",
    "mergeFiles('2018-11-16','2018-1')\n",
    "print(\"Done\")\n",
    "mergeFiles('2018-11-22','2018-1')\n",
    "print(\"Done\")\n",
    "mergeFiles('2018-12-30','2018-1')\n",
    "print(\"Done10\")"
   ]
  },
  {
   "cell_type": "code",
   "execution_count": null,
   "metadata": {},
   "outputs": [],
   "source": []
  }
 ],
 "metadata": {
  "kernelspec": {
   "display_name": "Python 3",
   "language": "python",
   "name": "python3"
  },
  "language_info": {
   "codemirror_mode": {
    "name": "ipython",
    "version": 3
   },
   "file_extension": ".py",
   "mimetype": "text/x-python",
   "name": "python",
   "nbconvert_exporter": "python",
   "pygments_lexer": "ipython3",
   "version": "3.7.3"
  }
 },
 "nbformat": 4,
 "nbformat_minor": 2
}
